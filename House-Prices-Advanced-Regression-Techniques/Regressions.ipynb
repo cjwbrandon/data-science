{
 "cells": [
  {
   "cell_type": "markdown",
   "metadata": {},
   "source": [
    "# Linear Regression Models and Regularisation"
   ]
  },
  {
   "cell_type": "markdown",
   "metadata": {},
   "source": [
    "Here, we will be exploring linear regression models, namely OLS, Ridge, Lasso and Elastic-Net Regressions. We main to gain a better understanding of how an OLS model will fit the given dataset as well as how regularisation can potential reduce the complexity of the model through feature selections without losing much predictive power.\n",
    "\n",
    "We will be comparing the different models predictive ability using their R-squared and Mean Squared Error values.\n",
    "We will also compare the different models by their complexity and number of features.\n",
    "\n",
    "Data Source: https://www.kaggle.com/c/house-prices-advanced-regression-techniques/data"
   ]
  },
  {
   "cell_type": "code",
   "execution_count": 1,
   "metadata": {},
   "outputs": [],
   "source": [
    "import pandas as pd\n",
    "import numpy as np\n",
    "import matplotlib.pyplot as plt\n",
    "import seaborn as se\n",
    "\n",
    "%matplotlib inline"
   ]
  },
  {
   "cell_type": "code",
   "execution_count": 2,
   "metadata": {},
   "outputs": [],
   "source": [
    "df_train = pd.read_csv('df_train.csv')"
   ]
  },
  {
   "cell_type": "code",
   "execution_count": 3,
   "metadata": {},
   "outputs": [
    {
     "data": {
      "text/html": [
       "<div>\n",
       "<style scoped>\n",
       "    .dataframe tbody tr th:only-of-type {\n",
       "        vertical-align: middle;\n",
       "    }\n",
       "\n",
       "    .dataframe tbody tr th {\n",
       "        vertical-align: top;\n",
       "    }\n",
       "\n",
       "    .dataframe thead th {\n",
       "        text-align: right;\n",
       "    }\n",
       "</style>\n",
       "<table border=\"1\" class=\"dataframe\">\n",
       "  <thead>\n",
       "    <tr style=\"text-align: right;\">\n",
       "      <th></th>\n",
       "      <th>MSSubClass</th>\n",
       "      <th>LotArea</th>\n",
       "      <th>OverallQual</th>\n",
       "      <th>OverallCond</th>\n",
       "      <th>YearBuilt</th>\n",
       "      <th>YearRemodAdd</th>\n",
       "      <th>BsmtFinSF1</th>\n",
       "      <th>BsmtFinSF2</th>\n",
       "      <th>BsmtUnfSF</th>\n",
       "      <th>TotalBsmtSF</th>\n",
       "      <th>...</th>\n",
       "      <th>SaleType_ConLw</th>\n",
       "      <th>SaleType_New</th>\n",
       "      <th>SaleType_Oth</th>\n",
       "      <th>SaleType_WD</th>\n",
       "      <th>SaleCondition_Abnorml</th>\n",
       "      <th>SaleCondition_AdjLand</th>\n",
       "      <th>SaleCondition_Alloca</th>\n",
       "      <th>SaleCondition_Family</th>\n",
       "      <th>SaleCondition_Normal</th>\n",
       "      <th>SaleCondition_Partial</th>\n",
       "    </tr>\n",
       "    <tr>\n",
       "      <th>Id</th>\n",
       "      <th></th>\n",
       "      <th></th>\n",
       "      <th></th>\n",
       "      <th></th>\n",
       "      <th></th>\n",
       "      <th></th>\n",
       "      <th></th>\n",
       "      <th></th>\n",
       "      <th></th>\n",
       "      <th></th>\n",
       "      <th></th>\n",
       "      <th></th>\n",
       "      <th></th>\n",
       "      <th></th>\n",
       "      <th></th>\n",
       "      <th></th>\n",
       "      <th></th>\n",
       "      <th></th>\n",
       "      <th></th>\n",
       "      <th></th>\n",
       "      <th></th>\n",
       "    </tr>\n",
       "  </thead>\n",
       "  <tbody>\n",
       "    <tr>\n",
       "      <th>2</th>\n",
       "      <td>4.110874</td>\n",
       "      <td>9.042040</td>\n",
       "      <td>6</td>\n",
       "      <td>1.791759</td>\n",
       "      <td>7.602900</td>\n",
       "      <td>7.602900</td>\n",
       "      <td>6.561031</td>\n",
       "      <td>0.0</td>\n",
       "      <td>5.017280</td>\n",
       "      <td>6.753438</td>\n",
       "      <td>...</td>\n",
       "      <td>0</td>\n",
       "      <td>0</td>\n",
       "      <td>0</td>\n",
       "      <td>1</td>\n",
       "      <td>0</td>\n",
       "      <td>0</td>\n",
       "      <td>0</td>\n",
       "      <td>0</td>\n",
       "      <td>1</td>\n",
       "      <td>0</td>\n",
       "    </tr>\n",
       "    <tr>\n",
       "      <th>3</th>\n",
       "      <td>3.044522</td>\n",
       "      <td>9.169623</td>\n",
       "      <td>7</td>\n",
       "      <td>2.197225</td>\n",
       "      <td>7.589336</td>\n",
       "      <td>7.589336</td>\n",
       "      <td>6.886532</td>\n",
       "      <td>0.0</td>\n",
       "      <td>5.652489</td>\n",
       "      <td>7.141245</td>\n",
       "      <td>...</td>\n",
       "      <td>0</td>\n",
       "      <td>0</td>\n",
       "      <td>0</td>\n",
       "      <td>1</td>\n",
       "      <td>0</td>\n",
       "      <td>0</td>\n",
       "      <td>0</td>\n",
       "      <td>0</td>\n",
       "      <td>1</td>\n",
       "      <td>0</td>\n",
       "    </tr>\n",
       "    <tr>\n",
       "      <th>4</th>\n",
       "      <td>4.110874</td>\n",
       "      <td>9.328212</td>\n",
       "      <td>7</td>\n",
       "      <td>1.791759</td>\n",
       "      <td>7.601902</td>\n",
       "      <td>7.602401</td>\n",
       "      <td>6.188264</td>\n",
       "      <td>0.0</td>\n",
       "      <td>6.075346</td>\n",
       "      <td>6.825460</td>\n",
       "      <td>...</td>\n",
       "      <td>0</td>\n",
       "      <td>0</td>\n",
       "      <td>0</td>\n",
       "      <td>1</td>\n",
       "      <td>1</td>\n",
       "      <td>0</td>\n",
       "      <td>0</td>\n",
       "      <td>0</td>\n",
       "      <td>0</td>\n",
       "      <td>0</td>\n",
       "    </tr>\n",
       "    <tr>\n",
       "      <th>5</th>\n",
       "      <td>4.262680</td>\n",
       "      <td>9.164401</td>\n",
       "      <td>8</td>\n",
       "      <td>1.791759</td>\n",
       "      <td>7.557995</td>\n",
       "      <td>7.586296</td>\n",
       "      <td>5.379897</td>\n",
       "      <td>0.0</td>\n",
       "      <td>6.293419</td>\n",
       "      <td>6.629363</td>\n",
       "      <td>...</td>\n",
       "      <td>0</td>\n",
       "      <td>0</td>\n",
       "      <td>0</td>\n",
       "      <td>1</td>\n",
       "      <td>0</td>\n",
       "      <td>0</td>\n",
       "      <td>0</td>\n",
       "      <td>0</td>\n",
       "      <td>1</td>\n",
       "      <td>0</td>\n",
       "    </tr>\n",
       "    <tr>\n",
       "      <th>6</th>\n",
       "      <td>4.110874</td>\n",
       "      <td>9.565284</td>\n",
       "      <td>5</td>\n",
       "      <td>1.791759</td>\n",
       "      <td>7.601402</td>\n",
       "      <td>7.601402</td>\n",
       "      <td>6.486161</td>\n",
       "      <td>0.0</td>\n",
       "      <td>6.196444</td>\n",
       "      <td>7.044033</td>\n",
       "      <td>...</td>\n",
       "      <td>0</td>\n",
       "      <td>0</td>\n",
       "      <td>0</td>\n",
       "      <td>1</td>\n",
       "      <td>0</td>\n",
       "      <td>0</td>\n",
       "      <td>0</td>\n",
       "      <td>0</td>\n",
       "      <td>1</td>\n",
       "      <td>0</td>\n",
       "    </tr>\n",
       "  </tbody>\n",
       "</table>\n",
       "<p>5 rows × 225 columns</p>\n",
       "</div>"
      ],
      "text/plain": [
       "    MSSubClass   LotArea  OverallQual  OverallCond  YearBuilt  YearRemodAdd  \\\n",
       "Id                                                                            \n",
       "2     4.110874  9.042040            6     1.791759   7.602900      7.602900   \n",
       "3     3.044522  9.169623            7     2.197225   7.589336      7.589336   \n",
       "4     4.110874  9.328212            7     1.791759   7.601902      7.602401   \n",
       "5     4.262680  9.164401            8     1.791759   7.557995      7.586296   \n",
       "6     4.110874  9.565284            5     1.791759   7.601402      7.601402   \n",
       "\n",
       "    BsmtFinSF1  BsmtFinSF2  BsmtUnfSF  TotalBsmtSF  ...  SaleType_ConLw  \\\n",
       "Id                                                  ...                   \n",
       "2     6.561031         0.0   5.017280     6.753438  ...               0   \n",
       "3     6.886532         0.0   5.652489     7.141245  ...               0   \n",
       "4     6.188264         0.0   6.075346     6.825460  ...               0   \n",
       "5     5.379897         0.0   6.293419     6.629363  ...               0   \n",
       "6     6.486161         0.0   6.196444     7.044033  ...               0   \n",
       "\n",
       "    SaleType_New  SaleType_Oth  SaleType_WD  SaleCondition_Abnorml  \\\n",
       "Id                                                                   \n",
       "2              0             0            1                      0   \n",
       "3              0             0            1                      0   \n",
       "4              0             0            1                      1   \n",
       "5              0             0            1                      0   \n",
       "6              0             0            1                      0   \n",
       "\n",
       "    SaleCondition_AdjLand  SaleCondition_Alloca  SaleCondition_Family  \\\n",
       "Id                                                                      \n",
       "2                       0                     0                     0   \n",
       "3                       0                     0                     0   \n",
       "4                       0                     0                     0   \n",
       "5                       0                     0                     0   \n",
       "6                       0                     0                     0   \n",
       "\n",
       "    SaleCondition_Normal  SaleCondition_Partial  \n",
       "Id                                               \n",
       "2                      1                      0  \n",
       "3                      1                      0  \n",
       "4                      0                      0  \n",
       "5                      1                      0  \n",
       "6                      1                      0  \n",
       "\n",
       "[5 rows x 225 columns]"
      ]
     },
     "execution_count": 3,
     "metadata": {},
     "output_type": "execute_result"
    }
   ],
   "source": [
    "df_train = df_train.drop('Unnamed: 0', axis = 1).set_index('Id').drop(1, axis = 0)\n",
    "df_train.head()"
   ]
  },
  {
   "cell_type": "code",
   "execution_count": 4,
   "metadata": {
    "scrolled": true
   },
   "outputs": [
    {
     "name": "stdout",
     "output_type": "stream",
     "text": [
      "<class 'pandas.core.frame.DataFrame'>\n",
      "Int64Index: 1450 entries, 2 to 1460\n",
      "Columns: 225 entries, MSSubClass to SaleCondition_Partial\n",
      "dtypes: float64(27), int64(198)\n",
      "memory usage: 2.5 MB\n"
     ]
    }
   ],
   "source": [
    "df_train.info()"
   ]
  },
  {
   "cell_type": "markdown",
   "metadata": {},
   "source": [
    "## Linear Regression"
   ]
  },
  {
   "cell_type": "code",
   "execution_count": 5,
   "metadata": {},
   "outputs": [],
   "source": [
    "from sklearn.linear_model import LinearRegression\n",
    "from sklearn.preprocessing import StandardScaler\n",
    "from sklearn.model_selection import train_test_split, cross_validate"
   ]
  },
  {
   "cell_type": "code",
   "execution_count": 6,
   "metadata": {},
   "outputs": [],
   "source": [
    "df_num = pd.read_csv('df_num.csv')\n",
    "df_num = df_num.set_index('Id')"
   ]
  },
  {
   "cell_type": "code",
   "execution_count": 7,
   "metadata": {},
   "outputs": [
    {
     "name": "stderr",
     "output_type": "stream",
     "text": [
      "C:\\Users\\Chua\\Anaconda3\\lib\\site-packages\\sklearn\\preprocessing\\data.py:645: DataConversionWarning: Data with input dtype int64, float64 were all converted to float64 by StandardScaler.\n",
      "  return self.partial_fit(X, y)\n",
      "C:\\Users\\Chua\\Anaconda3\\lib\\site-packages\\sklearn\\base.py:464: DataConversionWarning: Data with input dtype int64, float64 were all converted to float64 by StandardScaler.\n",
      "  return self.fit(X, **fit_params).transform(X)\n"
     ]
    }
   ],
   "source": [
    "scaler = StandardScaler()\n",
    "df_train[df_num.columns] = scaler.fit_transform(df_train[df_num.columns])"
   ]
  },
  {
   "cell_type": "code",
   "execution_count": 8,
   "metadata": {},
   "outputs": [],
   "source": [
    "x_train, x_test, y_train, y_test = train_test_split(df_train.drop('SalePrice', axis=1), df_train['SalePrice'], test_size = 0.3)"
   ]
  },
  {
   "cell_type": "code",
   "execution_count": 9,
   "metadata": {},
   "outputs": [
    {
     "data": {
      "text/plain": [
       "LinearRegression(copy_X=True, fit_intercept=True, n_jobs=None,\n",
       "         normalize=False)"
      ]
     },
     "execution_count": 9,
     "metadata": {},
     "output_type": "execute_result"
    }
   ],
   "source": [
    "lin_reg = LinearRegression()\n",
    "lin_reg.fit(x_train, y_train)"
   ]
  },
  {
   "cell_type": "markdown",
   "metadata": {},
   "source": [
    "Scores"
   ]
  },
  {
   "cell_type": "code",
   "execution_count": 10,
   "metadata": {},
   "outputs": [
    {
     "name": "stdout",
     "output_type": "stream",
     "text": [
      "fit_time : [0.0449729  0.03997731 0.05296993 0.03397989 0.04197574]\n",
      "score_time : [0.00799632 0.00799537 0.00599599 0.00599599 0.0059967 ]\n",
      "test_r2 : [-1.03952785e+20 -4.34660515e+20 -8.37320018e+16 -3.83478257e+18\n",
      " -5.73082427e+20]\n",
      "train_r2 : [0.86530547 0.87982528 0.87936964 0.87093328 0.86912465]\n",
      "test_neg_mean_squared_error : [-9.82042469e+19 -4.33450170e+20 -9.53148985e+16 -3.63648870e+18\n",
      " -5.77113564e+20]\n",
      "train_neg_mean_squared_error : [-0.13814911 -0.12189746 -0.11789376 -0.13232218 -0.13230886]\n"
     ]
    }
   ],
   "source": [
    "cv_results = cross_validate(lin_reg, x_train, y_train, cv=5, scoring=('r2', 'neg_mean_squared_error'), return_train_score = True)\n",
    "for i in cv_results:\n",
    "    print(i, ':', cv_results[i])"
   ]
  },
  {
   "cell_type": "markdown",
   "metadata": {},
   "source": [
    "From the cross validation results, we can clearly see that the model fits the training dataset well but often does not fit the validation dataset. As such, we need to investigate further into what is causing this issue.\n",
    "Firstly, we investigate the training dataset to ensure that the model at least fits it well."
   ]
  },
  {
   "cell_type": "code",
   "execution_count": 11,
   "metadata": {},
   "outputs": [
    {
     "name": "stdout",
     "output_type": "stream",
     "text": [
      "R_squared for training data: 0.8659086580134557\n"
     ]
    }
   ],
   "source": [
    "print('R_squared for training data:' , lin_reg.score(x_train, y_train))"
   ]
  },
  {
   "cell_type": "code",
   "execution_count": 12,
   "metadata": {},
   "outputs": [],
   "source": [
    "lin_reg_pred = lin_reg.predict(x_train)"
   ]
  },
  {
   "cell_type": "code",
   "execution_count": 13,
   "metadata": {},
   "outputs": [
    {
     "data": {
      "image/png": "[encoded data removed]",
      "text/plain": [
       "<Figure size 432x288 with 1 Axes>"
      ]
     },
     "metadata": {
      "needs_background": "light"
     },
     "output_type": "display_data"
    },
    {
     "data": {
      "text/plain": [
       "Text(0, 0.5, 'Residuals')"
      ]
     },
     "execution_count": 13,
     "metadata": {},
     "output_type": "execute_result"
    },
    {
     "data": {
      "image/png": "[encoded data removed]",
      "text/plain": [
       "<Figure size 432x288 with 1 Axes>"
      ]
     },
     "metadata": {
      "needs_background": "light"
     },
     "output_type": "display_data"
    }
   ],
   "source": [
    "se.scatterplot(lin_reg_pred, y_train)\n",
    "plt.show()\n",
    "se.scatterplot(lin_reg_pred, lin_reg_pred-y_train)\n",
    "plt.ylabel('Residuals')"
   ]
  },
  {
   "cell_type": "code",
   "execution_count": 14,
   "metadata": {},
   "outputs": [
    {
     "name": "stdout",
     "output_type": "stream",
     "text": [
      "Residual's Mean: -2.5046187430124237e-05\n"
     ]
    }
   ],
   "source": [
    "print('Residual\\'s Mean:', (lin_reg_pred-y_train).mean())"
   ]
  },
  {
   "cell_type": "markdown",
   "metadata": {},
   "source": [
    "As we can see, the model has a high r-squared value which represents that the variables can explain the sale prices well. This is further illustrated in the SalesPrice vs. Predicted value scatter plot. The Residuals plot also has a mean close to 0 and are roughly randomly scattered about the mean. This shows that the model has captured a large amount of information from the dataset and used in its prediction.\n",
    "\n",
    "Next, we look at the test dataset to investigate why this results is not translated to it."
   ]
  },
  {
   "cell_type": "code",
   "execution_count": 15,
   "metadata": {},
   "outputs": [
    {
     "name": "stdout",
     "output_type": "stream",
     "text": [
      "R Squared for test data: -4.290691811427944e+19\n"
     ]
    }
   ],
   "source": [
    "print('R Squared for test data:', lin_reg.score(x_test, y_test))"
   ]
  },
  {
   "cell_type": "code",
   "execution_count": 16,
   "metadata": {},
   "outputs": [],
   "source": [
    "lin_pred_test = lin_reg.predict(x_test)"
   ]
  },
  {
   "cell_type": "code",
   "execution_count": 17,
   "metadata": {},
   "outputs": [
    {
     "data": {
      "image/png": "[encoded data removed]",
      "text/plain": [
       "<Figure size 432x288 with 1 Axes>"
      ]
     },
     "metadata": {
      "needs_background": "light"
     },
     "output_type": "display_data"
    }
   ],
   "source": [
    "se.scatterplot(lin_pred_test, y_test)\n",
    "plt.show()"
   ]
  },
  {
   "cell_type": "code",
   "execution_count": 18,
   "metadata": {},
   "outputs": [
    {
     "name": "stdout",
     "output_type": "stream",
     "text": [
      "Prediction mean: -333690974.8423042\n"
     ]
    }
   ],
   "source": [
    "print('Prediction mean:', lin_pred_test.mean())"
   ]
  },
  {
   "cell_type": "markdown",
   "metadata": {},
   "source": [
    "From the plot above, we can see that the scale of the predicted values are a little weird in the sense that there are extremely large values. This could be possibly caused by certain outliers or that the data wasn't properly translated into a scale that is suitable for this model.\n",
    "\n",
    "As such, for the time being, we will remove the large values to investigate if the remaining values are a good fit for the model."
   ]
  },
  {
   "cell_type": "code",
   "execution_count": 58,
   "metadata": {},
   "outputs": [],
   "source": [
    "large_values = np.where(abs(lin_pred_test) > 5)\n",
    "lin_pred_test1 = np.delete(lin_pred_test, large_values)\n",
    "y_test1 = y_test.to_numpy()\n",
    "y_test1 = np.delete(y_test1, large_values)"
   ]
  },
  {
   "cell_type": "code",
   "execution_count": 59,
   "metadata": {},
   "outputs": [
    {
     "data": {
      "image/png": "[encoded data removed]",
      "text/plain": [
       "<Figure size 432x288 with 1 Axes>"
      ]
     },
     "metadata": {
      "needs_background": "light"
     },
     "output_type": "display_data"
    },
    {
     "data": {
      "text/plain": [
       "Text(0, 0.5, 'Residuals')"
      ]
     },
     "execution_count": 59,
     "metadata": {},
     "output_type": "execute_result"
    },
    {
     "data": {
      "image/png": "[encoded data removed]",
      "text/plain": [
       "<Figure size 432x288 with 1 Axes>"
      ]
     },
     "metadata": {
      "needs_background": "light"
     },
     "output_type": "display_data"
    }
   ],
   "source": [
    "se.scatterplot(lin_pred_test1, y_test1)\n",
    "plt.show()\n",
    "se.scatterplot(lin_pred_test1, lin_pred_test1-y_test1)\n",
    "plt.ylabel('Residuals')"
   ]
  },
  {
   "cell_type": "code",
   "execution_count": 60,
   "metadata": {},
   "outputs": [],
   "source": [
    "from sklearn.metrics import mean_squared_error"
   ]
  },
  {
   "cell_type": "code",
   "execution_count": 61,
   "metadata": {},
   "outputs": [
    {
     "name": "stdout",
     "output_type": "stream",
     "text": [
      "New R2 Values: 0.7917910564090654\n",
      "MSE: 0.2083456441062274\n"
     ]
    }
   ],
   "source": [
    "print('New R2 Values:', np.corrcoef(lin_pred_test1, y_test1)[0][1]**2)\n",
    "print('MSE:', mean_squared_error(lin_pred_test1, y_test1))"
   ]
  },
  {
   "cell_type": "markdown",
   "metadata": {},
   "source": [
    "Here we see that the performance increased drastically, matching the results we see from the training dataset. This shows that the model effectively captures the vital information from the dataset and is able to replicate its results on dataset that it has not seen before. However, we have to further investigate the cause of the large values to create a more complete model.\n",
    "\n",
    "As such, we investigate the coefficient of each variable."
   ]
  },
  {
   "cell_type": "code",
   "execution_count": 62,
   "metadata": {},
   "outputs": [
    {
     "name": "stdout",
     "output_type": "stream",
     "text": [
      "('MSSubClass', 0.024377161806464407)\n",
      "('LotArea', 0.11875214917536883)\n",
      "('OverallQual', 0.05349808890566651)\n",
      "('OverallCond', 0.1852711473207467)\n",
      "('YearBuilt', 0.3736241360028304)\n",
      "('YearRemodAdd', 0.1320375904108155)\n",
      "('BsmtFinSF1', 0.027398215637762055)\n",
      "('BsmtFinSF2', -0.04730812708510738)\n",
      "('BsmtUnfSF', -0.026486108225140026)\n",
      "('TotalBsmtSF', 0.08087903192691401)\n",
      "('1stFlrSF', 0.037246205328952675)\n",
      "('2ndFlrSF', -0.15448055613319436)\n",
      "('LowQualFinSF', 0.0010083214520156814)\n",
      "('GrLivArea', 0.5556229539173634)\n",
      "('BsmtFullBath', 0.046999048438822424)\n",
      "('BsmtHalfBath', 0.0030668983611152473)\n",
      "('FullBath', -0.008276911607778312)\n",
      "('HalfBath', 0.02665774323527427)\n",
      "('BedroomAbvGr', -0.010593804668972917)\n",
      "('KitchenAbvGr', -0.08960248728060409)\n",
      "('TotRmsAbvGrd', 0.028476043889410954)\n",
      "('Fireplaces', 0.0860286492990101)\n",
      "('GarageCars', -0.03420383762577488)\n",
      "('GarageArea', 0.04869428260640936)\n",
      "('WoodDeckSF', 0.01623838400859018)\n",
      "('OpenPorchSF', 0.008680934430574827)\n",
      "('EnclosedPorch', 0.06992025392997597)\n",
      "('3SsnPorch', 0.0012152956939669862)\n",
      "('ScreenPorch', 0.06398789327191698)\n",
      "('PoolArea', -0.09378847433900897)\n",
      "('MiscVal', -0.02957697827956344)\n",
      "('MoSold', 0.005475611728531483)\n",
      "('YrSold', 0.03040135669339842)\n",
      "('MSZoning_C (all)', -100482098682.86893)\n",
      "('MSZoning_FV', -100482098682.72658)\n",
      "('MSZoning_RH', -100482098682.74915)\n",
      "('MSZoning_RL', -100482098682.72748)\n",
      "('MSZoning_RM', -100482098682.78572)\n",
      "('Street_Grvl', -63813245356.4411)\n",
      "('Street_Pave', -63813245356.251656)\n",
      "('LotShape_IR1', -55483786791.37823)\n",
      "('LotShape_IR2', -55483786791.30497)\n",
      "('LotShape_IR3', -55483786791.54491)\n",
      "('LotShape_Reg', -55483786791.4081)\n",
      "('LandContour_Bnk', -73780310987.91573)\n",
      "('LandContour_HLS', -73780310988.08463)\n",
      "('LandContour_Low', -73780310987.8655)\n",
      "('LandContour_Lvl', -73780310987.92601)\n",
      "('Utilities_AllPub', -1591008451.4788375)\n",
      "('Utilities_NoSeWa', -1591008451.7667828)\n",
      "('LotConfig_Corner', -107425398637.3837)\n",
      "('LotConfig_CulDSac', -107425398637.27405)\n",
      "('LotConfig_FR2', -107425398637.31877)\n",
      "('LotConfig_FR3', -107425398636.97636)\n",
      "('LotConfig_Inside', -107425398637.35297)\n",
      "('LandSlope_Gtl', -56894642700.48127)\n",
      "('LandSlope_Mod', -56894642700.437584)\n",
      "('LandSlope_Sev', -56894642700.797806)\n",
      "('Neighborhood_Blmngtn', 27408755659.951824)\n",
      "('Neighborhood_Blueste', 27408755660.087402)\n",
      "('Neighborhood_BrDale', 27408755659.83028)\n",
      "('Neighborhood_BrkSide', 27408755660.07994)\n",
      "('Neighborhood_ClearCr', 27408755660.069874)\n",
      "('Neighborhood_CollgCr', 27408755659.97792)\n",
      "('Neighborhood_Crawfor', 27408755659.923573)\n",
      "('Neighborhood_Edwards', 27408755660.005436)\n",
      "('Neighborhood_Gilbert', 27408755659.996025)\n",
      "('Neighborhood_IDOTRR', 27408755659.91542)\n",
      "('Neighborhood_MeadowV', 27408755659.877937)\n",
      "('Neighborhood_Mitchel', 27408755659.971603)\n",
      "('Neighborhood_NAmes', 27408755659.973145)\n",
      "('Neighborhood_NPkVill', 27408755659.772614)\n",
      "('Neighborhood_NWAmes', 27408755660.002415)\n",
      "('Neighborhood_NoRidge', 27408755659.884186)\n",
      "('Neighborhood_NridgHt', 27408755659.868805)\n",
      "('Neighborhood_OldTown', 27408755660.182724)\n",
      "('Neighborhood_SWISU', 27408755659.997723)\n",
      "('Neighborhood_Sawyer', 27408755660.126003)\n",
      "('Neighborhood_SawyerW', 27408755659.956253)\n",
      "('Neighborhood_Somerst', 27408755659.83141)\n",
      "('Neighborhood_StoneBr', 27408755659.911278)\n",
      "('Neighborhood_Timber', 27408755660.143257)\n",
      "('Neighborhood_Veenker', 27408755660.072285)\n",
      "('Condition1_Artery', -14527034129.726852)\n",
      "('Condition1_Feedr', -14527034129.782104)\n",
      "('Condition1_Norm', -14527034129.806787)\n",
      "('Condition1_PosA', -14527034129.797588)\n",
      "('Condition1_PosN', -14527034129.681648)\n",
      "('Condition1_RRAe', -14527034129.800385)\n",
      "('Condition1_RRAn', -14527034129.698383)\n",
      "('Condition1_RRNe', -14527034130.036821)\n",
      "('Condition1_RRNn', -14527034129.832346)\n",
      "('Condition2_Artery', 17673161246.395565)\n",
      "('Condition2_Feedr', 17673161245.131393)\n",
      "('Condition2_Norm', 17673161246.055428)\n",
      "('Condition2_PosA', -181364192.57936507)\n",
      "('Condition2_PosN', 17673161245.689438)\n",
      "('Condition2_RRAe', 17673161244.947906)\n",
      "('Condition2_RRAn', 17673161246.07545)\n",
      "('Condition2_RRNn', 17673161246.271107)\n",
      "('BldgType_1Fam', 18940739047.46051)\n",
      "('BldgType_2fmCon', 18940739047.349945)\n",
      "('BldgType_Duplex', 18940739047.533424)\n",
      "('BldgType_Twnhs', 18940739047.5899)\n",
      "('BldgType_TwnhsE', 18940739047.571415)\n",
      "('HouseStyle_1.5Fin', -23941464973.249763)\n",
      "('HouseStyle_1.5Unf', -23941464973.296715)\n",
      "('HouseStyle_1Story', -23941464973.327305)\n",
      "('HouseStyle_2.5Fin', -23941464973.026962)\n",
      "('HouseStyle_2.5Unf', -23941464973.098743)\n",
      "('HouseStyle_2Story', -23941464973.288876)\n",
      "('HouseStyle_SFoyer', -23941464973.388443)\n",
      "('HouseStyle_SLvl', -23941464973.3733)\n",
      "('RoofStyle_Flat', 6210257867.561198)\n",
      "('RoofStyle_Gable', 6210257867.410935)\n",
      "('RoofStyle_Gambrel', 6210257867.278182)\n",
      "('RoofStyle_Hip', 6210257867.382986)\n",
      "('RoofStyle_Mansard', 6210257867.244506)\n",
      "('RoofStyle_Shed', 6210257867.970644)\n",
      "('RoofMatl_ClyTile', -2132565147.1585135)\n",
      "('RoofMatl_CompShg', -2132565146.303771)\n",
      "('RoofMatl_Membran', -180783.4760104246)\n",
      "('RoofMatl_Metal', -2132565146.5701427)\n",
      "('RoofMatl_Roll', -2132565145.8172262)\n",
      "('RoofMatl_Tar&Grv', -2132565146.613206)\n",
      "('RoofMatl_WdShake', -2132565146.5023568)\n",
      "('RoofMatl_WdShngl', -2132565146.5354042)\n",
      "('Exterior1st_AsbShng', 3497944322.033787)\n",
      "('Exterior1st_AsphShn', -317494.54980765964)\n",
      "('Exterior1st_BrkComm', 3497944322.3168063)\n",
      "('Exterior1st_BrkFace', 3497944321.5755615)\n",
      "('Exterior1st_CBlock', -21183083095.102642)\n",
      "('Exterior1st_CemntBd', 3497944321.5231466)\n",
      "('Exterior1st_HdBoard', 3497944321.632233)\n",
      "('Exterior1st_ImStucc', 3497944321.5005884)\n",
      "('Exterior1st_MetalSd', 3497944321.721201)\n",
      "('Exterior1st_Plywood', 3497944321.54115)\n",
      "('Exterior1st_Stone', 3497944321.4109526)\n",
      "('Exterior1st_Stucco', 3497944321.8953967)\n",
      "('Exterior1st_VinylSd', 3497944321.755338)\n",
      "('Exterior1st_Wd Sdng', 3497944321.690301)\n",
      "('Exterior1st_WdShing', 3497944321.7411065)\n",
      "('Exterior2nd_AsbShng', -44481521577.16181)\n",
      "('Exterior2nd_AsphShn', -44481521576.83624)\n",
      "('Exterior2nd_Brk Cmn', -44481521576.85346)\n",
      "('Exterior2nd_BrkFace', -44481521576.9259)\n",
      "('Exterior2nd_CBlock', -19800494160.735428)\n",
      "('Exterior2nd_CmentBd', -44481521576.762375)\n",
      "('Exterior2nd_HdBoard', -44481521576.89891)\n",
      "('Exterior2nd_ImStucc', -44481521576.68211)\n",
      "('Exterior2nd_MetalSd', -44481521576.98985)\n",
      "('Exterior2nd_Other', -11.442845792509615)\n",
      "('Exterior2nd_Plywood', -44481521576.85656)\n",
      "('Exterior2nd_Stone', -44481521577.029434)\n",
      "('Exterior2nd_Stucco', -44481521576.88328)\n",
      "('Exterior2nd_VinylSd', -44481521577.00431)\n",
      "('Exterior2nd_Wd Sdng', -44481521576.87893)\n",
      "('Exterior2nd_Wd Shng', -44481521576.91298)\n",
      "('MasVnrType_BrkCmn', 108543709464.01193)\n",
      "('MasVnrType_BrkFace', 108543709463.95926)\n",
      "('MasVnrType_None', 108543709463.9187)\n",
      "('MasVnrType_Stone', 108543709463.92297)\n",
      "('ExterQual_Ex', 103393857421.16568)\n",
      "('ExterQual_Fa', 103393857421.43576)\n",
      "('ExterQual_Gd', 103393857421.17885)\n",
      "('ExterQual_TA', 103393857421.19533)\n",
      "('ExterCond_Ex', 123635580158.67792)\n",
      "('ExterCond_Fa', 123635580157.89519)\n",
      "('ExterCond_Gd', 123635580158.019)\n",
      "('ExterCond_Po', 0.00030517578125)\n",
      "('ExterCond_TA', 123635580158.0311)\n",
      "('Foundation_BrkTil', 8502651812.815396)\n",
      "('Foundation_CBlock', 8502651812.914558)\n",
      "('Foundation_PConc', 8502651812.939513)\n",
      "('Foundation_Slab', 8502651813.081768)\n",
      "('Foundation_Stone', 8502651812.386827)\n",
      "('Foundation_Wood', 8502651812.44853)\n",
      "('Heating_Floor', 1459272612.487497)\n",
      "('Heating_GasA', 1459272612.2480514)\n",
      "('Heating_GasW', 1459272612.3651745)\n",
      "('Heating_Grav', 1459272612.5320265)\n",
      "('Heating_OthW', 1459272612.272813)\n",
      "('Heating_Wall', 1459272612.2646368)\n",
      "('HeatingQC_Ex', 62980458245.28407)\n",
      "('HeatingQC_Fa', 62980458245.14513)\n",
      "('HeatingQC_Gd', 62980458245.28796)\n",
      "('HeatingQC_Po', 62980458244.93606)\n",
      "('HeatingQC_TA', 62980458245.262)\n",
      "('CentralAir_N', 25337667535.58367)\n",
      "('CentralAir_Y', 25337667535.57278)\n",
      "('Electrical_FuseA', -18210687717.485596)\n",
      "('Electrical_FuseF', -18210687717.519337)\n",
      "('Electrical_FuseP', -18210687717.536915)\n",
      "('Electrical_Mix', -6515409580.269849)\n",
      "('Electrical_SBrkr', -18210687717.43264)\n",
      "('KitchenQual_Ex', -42551018136.55111)\n",
      "('KitchenQual_Fa', -42551018136.61307)\n",
      "('KitchenQual_Gd', -42551018136.58498)\n",
      "('KitchenQual_TA', -42551018136.52142)\n",
      "('Functional_Maj1', 5286776266.711253)\n",
      "('Functional_Maj2', -6408501869.981805)\n",
      "('Functional_Min1', 5286776266.593758)\n",
      "('Functional_Min2', 5286776266.548688)\n",
      "('Functional_Mod', 5286776266.320184)\n",
      "('Functional_Sev', 5286776266.543133)\n",
      "('Functional_Typ', 5286776266.5410185)\n",
      "('PavedDrive_N', 154581191568.8641)\n",
      "('PavedDrive_P', 154581191569.01874)\n",
      "('PavedDrive_Y', 154581191568.93222)\n",
      "('SaleType_COD', 25186600062.31105)\n",
      "('SaleType_CWD', 25186600062.42967)\n",
      "('SaleType_Con', 25186600062.201633)\n",
      "('SaleType_ConLD', 25186600062.248394)\n",
      "('SaleType_ConLI', 25186600062.316162)\n",
      "('SaleType_ConLw', 25186600061.87623)\n",
      "('SaleType_New', 25186600061.99444)\n",
      "('SaleType_Oth', 25186600062.440857)\n",
      "('SaleType_WD', 25186600062.253933)\n",
      "('SaleCondition_Abnorml', -28529282661.443672)\n",
      "('SaleCondition_AdjLand', -28529282661.140408)\n",
      "('SaleCondition_Alloca', -28529282661.271378)\n",
      "('SaleCondition_Family', -28529282661.310738)\n",
      "('SaleCondition_Normal', -28529282661.52034)\n",
      "('SaleCondition_Partial', -28529282661.222622)\n"
     ]
    }
   ],
   "source": [
    "for i in zip(x_train.columns, lin_reg.coef_):\n",
    "    print(i)"
   ]
  },
  {
   "cell_type": "markdown",
   "metadata": {},
   "source": [
    "As we can see from the coefficients, a large number of the dummy variables have very large variables. This would cause large shifts in the prices possibly causing the outliers."
   ]
  },
  {
   "cell_type": "markdown",
   "metadata": {},
   "source": [
    "## Regularisation"
   ]
  },
  {
   "cell_type": "markdown",
   "metadata": {},
   "source": [
    "Currently, the dataset consists of a large number of variables that are highly likely to be correlated given that many of the variables describe a similar portion of the apartment. As such, we shall explore how regularisation can help handle to collinearity between the different variables, filter out variables that are not predictive of the sale prices and prevent overfitting.\n",
    "\n",
    "Here we will be fitting the dataset onto a ridge, lasso and elastic-net regression."
   ]
  },
  {
   "cell_type": "markdown",
   "metadata": {},
   "source": [
    "## Ridge Regression - L2 Regularisation"
   ]
  },
  {
   "cell_type": "code",
   "execution_count": 24,
   "metadata": {},
   "outputs": [],
   "source": [
    "from sklearn.linear_model import RidgeCV"
   ]
  },
  {
   "cell_type": "code",
   "execution_count": 25,
   "metadata": {},
   "outputs": [],
   "source": [
    "ridge_reg = RidgeCV(alphas= np.geomspace(1, 100, num=30), cv=3)"
   ]
  },
  {
   "cell_type": "code",
   "execution_count": 26,
   "metadata": {},
   "outputs": [
    {
     "data": {
      "text/plain": [
       "RidgeCV(alphas=array([  1.     ,   1.1721 ,   1.37382,   1.61026,   1.88739,   2.21222,\n",
       "         2.59294,   3.0392 ,   3.56225,   4.17532,   4.8939 ,   5.73615,\n",
       "         6.72336,   7.88046,   9.23671,  10.82637,  12.68961,  14.87352,\n",
       "        17.43329,  20.4336 ,  23.95027,  28.07216,  32.90345,  38.5662 ,\n",
       "        45.20354,  52.98317,  62.10169,  72.78954,  85.31679, 100.     ]),\n",
       "    cv=3, fit_intercept=True, gcv_mode=None, normalize=False, scoring=None,\n",
       "    store_cv_values=False)"
      ]
     },
     "execution_count": 26,
     "metadata": {},
     "output_type": "execute_result"
    }
   ],
   "source": [
    "ridge_reg.fit(x_train,y_train)"
   ]
  },
  {
   "cell_type": "markdown",
   "metadata": {},
   "source": [
    "Similarly, we first check the predictability on the training dataset."
   ]
  },
  {
   "cell_type": "code",
   "execution_count": 27,
   "metadata": {
    "scrolled": false
   },
   "outputs": [
    {
     "name": "stdout",
     "output_type": "stream",
     "text": [
      "R-squared value: 0.8469021912812509\n",
      "MSE: 0.15477167561076224\n",
      "alpha: 72.7895384398315\n"
     ]
    }
   ],
   "source": [
    "print('R-squared value:', ridge_reg.score(x_train, y_train))\n",
    "print('MSE:', mean_squared_error(ridge_reg.predict(x_train), y_train))\n",
    "print('alpha:', ridge_reg.alpha_)"
   ]
  },
  {
   "cell_type": "markdown",
   "metadata": {},
   "source": [
    "Test Dataset"
   ]
  },
  {
   "cell_type": "code",
   "execution_count": 28,
   "metadata": {},
   "outputs": [
    {
     "name": "stdout",
     "output_type": "stream",
     "text": [
      "R squared value on test data: 0.8265199257533747\n",
      "MSE: 0.16867046638370514\n"
     ]
    }
   ],
   "source": [
    "print('R squared value on test data:', ridge_reg.score(x_test, y_test))\n",
    "print('MSE:', mean_squared_error(ridge_reg.predict(x_test), y_test))"
   ]
  },
  {
   "cell_type": "code",
   "execution_count": 29,
   "metadata": {},
   "outputs": [],
   "source": [
    "ridge_pred = ridge_reg.predict(x_test)"
   ]
  },
  {
   "cell_type": "code",
   "execution_count": 30,
   "metadata": {},
   "outputs": [
    {
     "data": {
      "image/png": "[encoded data removed]",
      "text/plain": [
       "<Figure size 432x288 with 1 Axes>"
      ]
     },
     "metadata": {
      "needs_background": "light"
     },
     "output_type": "display_data"
    },
    {
     "data": {
      "text/plain": [
       "Text(0.5, 0, 'Residuals')"
      ]
     },
     "execution_count": 30,
     "metadata": {},
     "output_type": "execute_result"
    },
    {
     "data": {
      "image/png": "[encoded data removed]",
      "text/plain": [
       "<Figure size 432x288 with 1 Axes>"
      ]
     },
     "metadata": {
      "needs_background": "light"
     },
     "output_type": "display_data"
    }
   ],
   "source": [
    "se.scatterplot(ridge_pred, y_test)\n",
    "plt.show()\n",
    "se.scatterplot(ridge_pred, ridge_pred-y_test)\n",
    "plt.xlabel('Residuals')"
   ]
  },
  {
   "cell_type": "code",
   "execution_count": 31,
   "metadata": {},
   "outputs": [
    {
     "name": "stdout",
     "output_type": "stream",
     "text": [
      "('MSSubClass', 0.014749071755271027)\n",
      "('LotArea', 0.10654037663654982)\n",
      "('OverallQual', 0.03008562101984759)\n",
      "('OverallCond', 0.14044718364697475)\n",
      "('YearBuilt', 0.3252700653277846)\n",
      "('YearRemodAdd', 0.15433827388278104)\n",
      "('BsmtFinSF1', 0.04554674480399568)\n",
      "('TotalBsmtSF', 0.07983328966603176)\n",
      "('1stFlrSF', 0.1769598740118868)\n",
      "('2ndFlrSF', 0.0060451902423671365)\n",
      "('LowQualFinSF', 0.010554058280287654)\n",
      "('GrLivArea', 0.30717644823215107)\n",
      "('BsmtFullBath', 0.046144716268732795)\n",
      "('HalfBath', 0.03574694893000615)\n",
      "('TotRmsAbvGrd', 0.07414305509623247)\n",
      "('Fireplaces', 0.0970913271040828)\n",
      "('GarageArea', 0.011888935725719316)\n",
      "('WoodDeckSF', 0.026086748751374084)\n",
      "('OpenPorchSF', 0.029041631693663368)\n",
      "('EnclosedPorch', 0.05383869115226801)\n",
      "('3SsnPorch', 0.004448374870559426)\n",
      "('ScreenPorch', 0.058392666588299356)\n",
      "('YrSold', 0.014729591851587499)\n",
      "('MSZoning_RL', 0.01688997934091666)\n",
      "('MSZoning_RM', 0.015960788406669455)\n",
      "('LotShape_IR1', 0.008180847516564565)\n",
      "('LotShape_IR2', 0.016314369360473088)\n",
      "('LandContour_Bnk', 0.002701566743287559)\n",
      "('LandContour_Low', 0.009292966542372359)\n",
      "('LandContour_Lvl', 0.019276083615489555)\n",
      "('Utilities_AllPub', 0.001664132742889039)\n",
      "('LotConfig_CulDSac', 0.02183285500894259)\n",
      "('LotConfig_FR2', 0.006227358122313876)\n",
      "('LotConfig_FR3', 0.006430500418483294)\n",
      "('LandSlope_Mod', 0.010973792104753693)\n",
      "('Neighborhood_Blmngtn', 0.004697418068042258)\n",
      "('Neighborhood_Blueste', 0.005626208598583784)\n",
      "('Neighborhood_BrkSide', 0.004851547326568939)\n",
      "('Neighborhood_ClearCr', 0.012061783555522556)\n",
      "('Neighborhood_CollgCr', 0.0016407615054466562)\n",
      "('Neighborhood_Gilbert', 0.0018263478810211413)\n",
      "('Neighborhood_OldTown', 0.0620508011504693)\n",
      "('Neighborhood_SWISU', 0.005474421343134101)\n",
      "('Neighborhood_Sawyer', 0.032358478366317875)\n",
      "('Neighborhood_Timber', 0.03277293863149092)\n",
      "('Neighborhood_Veenker', 0.00442940869629006)\n",
      "('Condition1_Artery', 0.026392576067893938)\n",
      "('Condition1_Feedr', 0.01466213257682288)\n",
      "('Condition1_PosN', 0.0013682654568930815)\n",
      "('Condition2_Artery', 0.002783024530050575)\n",
      "('Condition2_Norm', 0.03247401170478213)\n",
      "('Condition2_RRNn', 0.0025535361453399475)\n",
      "('BldgType_Duplex', 0.01608795109672446)\n",
      "('BldgType_TwnhsE', 0.017185093593885974)\n",
      "('HouseStyle_1.5Fin', 0.011375416222372578)\n",
      "('HouseStyle_2.5Fin', 0.014321613564449838)\n",
      "('HouseStyle_2.5Unf', 0.014713620744109498)\n",
      "('HouseStyle_2Story', 0.005474314996286579)\n",
      "('RoofStyle_Flat', 0.0014653374103664957)\n",
      "('RoofStyle_Gable', 0.010302243098060495)\n",
      "('RoofStyle_Gambrel', 0.002244241777050685)\n",
      "('RoofMatl_CompShg', 0.021423576006613706)\n",
      "('RoofMatl_Roll', 0.005771315953815684)\n",
      "('Exterior1st_AsbShng', 0.0169210538169958)\n",
      "('Exterior1st_BrkComm', 0.012602621338372038)\n",
      "('Exterior1st_Stucco', 0.02628134584287839)\n",
      "('Exterior1st_VinylSd', 0.0028615575166364314)\n",
      "('Exterior1st_Wd Sdng', 0.02827873655846745)\n",
      "('Exterior1st_WdShing', 0.0065126619478108605)\n",
      "('Exterior2nd_AsbShng', 0.012268590510274917)\n",
      "('Exterior2nd_Brk Cmn', 0.005563662957102249)\n",
      "('Exterior2nd_ImStucc', 0.006028871409321957)\n",
      "('Exterior2nd_Stucco', 0.01972244870466903)\n",
      "('Exterior2nd_Wd Sdng', 0.00845998349413963)\n",
      "('Exterior2nd_Wd Shng', 0.0060639824127778135)\n",
      "('MasVnrType_BrkCmn', 0.010256794188370597)\n",
      "('MasVnrType_BrkFace', 0.01427895292832276)\n",
      "('ExterQual_Fa', 0.007968912674327958)\n",
      "('ExterQual_Gd', 0.003381772652039222)\n",
      "('ExterQual_TA', 0.0017755346298356295)\n",
      "('ExterCond_Ex', 0.007313501023250496)\n",
      "('ExterCond_Gd', 0.0016708977245517788)\n",
      "('ExterCond_TA', 0.0043879607752156935)\n",
      "('Foundation_CBlock', 0.011215482404295148)\n",
      "('Foundation_PConc', 0.025999068628731508)\n",
      "('Foundation_Slab', 0.021920266989912052)\n",
      "('Heating_Floor', 0.001575372918813296)\n",
      "('Heating_GasW', 0.01402092844575698)\n",
      "('Heating_OthW', 0.003616298690727473)\n",
      "('HeatingQC_Ex', 0.0023853408750570933)\n",
      "('HeatingQC_Gd', 0.011199616520368813)\n",
      "('HeatingQC_TA', 0.006805290145031751)\n",
      "('CentralAir_Y', 0.007616331312614704)\n",
      "('Electrical_FuseF', 0.0033297693013339255)\n",
      "('Electrical_Mix', 0.003982815564024259)\n",
      "('Electrical_SBrkr', 0.011141769392228143)\n",
      "('KitchenQual_Ex', 0.006411341151206056)\n",
      "('KitchenQual_TA', 0.017735156748248382)\n",
      "('Functional_Maj1', 0.017058715828321212)\n",
      "('Functional_Maj2', 0.003982815564024263)\n",
      "('Functional_Min1', 0.018031879192752835)\n",
      "('Functional_Min2', 0.007239586182818373)\n",
      "('PavedDrive_P', 0.01825749221455847)\n",
      "('PavedDrive_Y', 0.008323764093382134)\n",
      "('SaleType_COD', 0.020174340543570368)\n",
      "('SaleType_CWD', 0.009230263286542532)\n",
      "('SaleType_ConLI', 0.002202611181363213)\n",
      "('SaleType_WD', 0.004593944169180421)\n",
      "('SaleCondition_Abnorml', 0.011239073668788006)\n",
      "('SaleCondition_AdjLand', 0.005932440597166889)\n",
      "('SaleCondition_Alloca', 0.011436311842955304)\n",
      "('SaleCondition_Family', 0.019216022517987014)\n"
     ]
    }
   ],
   "source": [
    "for i in zip(x_train.columns, ridge_reg.coef_):\n",
    "    if i[1] >= 0.001:\n",
    "        print(i)"
   ]
  },
  {
   "cell_type": "markdown",
   "metadata": {},
   "source": [
    "As we can see from the results, we do not see the same issue of large coefficients when used to predict the test dataset. From the coefficients, we can see that there aren't large variables anymore. We can see that more variables have lower coefficients, closer to zero. This minimises the effects of variables that are not as important."
   ]
  },
  {
   "cell_type": "markdown",
   "metadata": {},
   "source": [
    "## Lasso Regression - L1 Regularisation"
   ]
  },
  {
   "cell_type": "code",
   "execution_count": 32,
   "metadata": {},
   "outputs": [],
   "source": [
    "from sklearn.linear_model import LassoCV"
   ]
  },
  {
   "cell_type": "code",
   "execution_count": 33,
   "metadata": {},
   "outputs": [],
   "source": [
    "lasso_reg = LassoCV(alphas=np.geomspace(0.005, 1, num=30), cv=3)"
   ]
  },
  {
   "cell_type": "code",
   "execution_count": 34,
   "metadata": {},
   "outputs": [
    {
     "data": {
      "text/plain": [
       "LassoCV(alphas=array([0.005  , 0.006  , 0.00721, 0.00865, 0.01038, 0.01247, 0.01496,\n",
       "       0.01796, 0.02156, 0.02589, 0.03108, 0.03731, 0.04478, 0.05376,\n",
       "       0.06454, 0.07747, 0.093  , 0.11165, 0.13403, 0.16089, 0.19315,\n",
       "       0.23186, 0.27834, 0.33414, 0.40112, 0.48152, 0.57805, 0.69392,\n",
       "       0.83302, 1.     ]),\n",
       "    copy_X=True, cv=3, eps=0.001, fit_intercept=True, max_iter=1000,\n",
       "    n_alphas=100, n_jobs=None, normalize=False, positive=False,\n",
       "    precompute='auto', random_state=None, selection='cyclic', tol=0.0001,\n",
       "    verbose=False)"
      ]
     },
     "execution_count": 34,
     "metadata": {},
     "output_type": "execute_result"
    }
   ],
   "source": [
    "lasso_reg.fit(x_train, y_train)"
   ]
  },
  {
   "cell_type": "code",
   "execution_count": 35,
   "metadata": {},
   "outputs": [
    {
     "name": "stdout",
     "output_type": "stream",
     "text": [
      "R-squared value: 0.8385657469780561\n",
      "MSE: 0.1631992649031179\n",
      "alpha: 0.01246520180613189\n"
     ]
    }
   ],
   "source": [
    "print('R-squared value:', lasso_reg.score(x_train, y_train))\n",
    "print('MSE:', mean_squared_error(lasso_reg.predict(x_train), y_train))\n",
    "print('alpha:', lasso_reg.alpha_)"
   ]
  },
  {
   "cell_type": "markdown",
   "metadata": {},
   "source": [
    "Test Dataset"
   ]
  },
  {
   "cell_type": "code",
   "execution_count": 36,
   "metadata": {},
   "outputs": [
    {
     "name": "stdout",
     "output_type": "stream",
     "text": [
      "R-squared value: 0.8433728067975979\n",
      "MSE: 0.15228481910990305\n"
     ]
    }
   ],
   "source": [
    "print('R-squared value:', lasso_reg.score(x_test, y_test))\n",
    "print('MSE:', mean_squared_error(lasso_reg.predict(x_test), y_test))"
   ]
  },
  {
   "cell_type": "code",
   "execution_count": 37,
   "metadata": {},
   "outputs": [],
   "source": [
    "lasso_pred = lasso_reg.predict(x_test)"
   ]
  },
  {
   "cell_type": "code",
   "execution_count": 38,
   "metadata": {},
   "outputs": [
    {
     "data": {
      "image/png": "[encoded data removed]",
      "text/plain": [
       "<Figure size 432x288 with 1 Axes>"
      ]
     },
     "metadata": {
      "needs_background": "light"
     },
     "output_type": "display_data"
    },
    {
     "data": {
      "text/plain": [
       "Text(0.5, 0, 'Residuals')"
      ]
     },
     "execution_count": 38,
     "metadata": {},
     "output_type": "execute_result"
    },
    {
     "data": {
      "image/png": "[encoded data removed]",
      "text/plain": [
       "<Figure size 432x288 with 1 Axes>"
      ]
     },
     "metadata": {
      "needs_background": "light"
     },
     "output_type": "display_data"
    }
   ],
   "source": [
    "se.scatterplot(lasso_pred, y_test)\n",
    "plt.show()\n",
    "se.scatterplot(lasso_pred, lasso_pred-y_test)\n",
    "plt.xlabel('Residuals')"
   ]
  },
  {
   "cell_type": "code",
   "execution_count": 39,
   "metadata": {},
   "outputs": [
    {
     "name": "stdout",
     "output_type": "stream",
     "text": [
      "Residuals Mean: -0.019718602973905822\n"
     ]
    }
   ],
   "source": [
    "print('Residuals Mean:', (lasso_pred-y_test).mean())"
   ]
  },
  {
   "cell_type": "markdown",
   "metadata": {},
   "source": [
    "The mean of the residuals are a little skewed upwards showing a slight bias in the model."
   ]
  },
  {
   "cell_type": "code",
   "execution_count": 40,
   "metadata": {},
   "outputs": [
    {
     "name": "stdout",
     "output_type": "stream",
     "text": [
      "Number of Variables: 22\n",
      "('LotArea', 0.09727387191291337)\n",
      "('OverallQual', 0.011585531231603085)\n",
      "('OverallCond', 0.14962114547808691)\n",
      "('YearBuilt', 0.36193563137448603)\n",
      "('YearRemodAdd', 0.13355517086766405)\n",
      "('BsmtFinSF1', 0.035614004361573845)\n",
      "('BsmtFinSF2', -0.01631840934291622)\n",
      "('TotalBsmtSF', 0.06605810208642177)\n",
      "('1stFlrSF', 0.13937467020467306)\n",
      "('GrLivArea', 0.42756240782864174)\n",
      "('BsmtFullBath', 0.04717559360535544)\n",
      "('HalfBath', 0.001110782612748393)\n",
      "('KitchenAbvGr', -0.06277460535329416)\n",
      "('TotRmsAbvGrd', 0.009236618956366034)\n",
      "('Fireplaces', 0.08647209866567913)\n",
      "('GarageArea', 0.005036838834941474)\n",
      "('WoodDeckSF', 0.012532888191052473)\n",
      "('OpenPorchSF', 0.008964339111524236)\n",
      "('EnclosedPorch', 0.038538257326262364)\n",
      "('ScreenPorch', 0.045473191236658515)\n",
      "('PoolArea', -0.056309635360179716)\n",
      "('MiscVal', -0.012578386362216129)\n"
     ]
    }
   ],
   "source": [
    "print('Number of Variables:' , np.count_nonzero(lasso_reg.coef_))\n",
    "for i in zip(x_train.columns, lasso_reg.coef_):\n",
    "    if i[1 != 0]:       \n",
    "        print(i)"
   ]
  },
  {
   "cell_type": "markdown",
   "metadata": {},
   "source": [
    "Similarly, the Lasso regression does not have the same large number phenomenon as seen in the linear regression.\n",
    "As the Lasso regression is an L1 regularisation method, it does some sort of feature selection given that the variable coefficient can be reduced to 0. This is shown in the coefficient printout where there is not a much lower number of features included in the model."
   ]
  },
  {
   "cell_type": "markdown",
   "metadata": {},
   "source": [
    "## Elastic-Net Regression - L1 & L2 Regularisation"
   ]
  },
  {
   "cell_type": "code",
   "execution_count": 41,
   "metadata": {},
   "outputs": [],
   "source": [
    "from sklearn.linear_model import ElasticNetCV"
   ]
  },
  {
   "cell_type": "code",
   "execution_count": 42,
   "metadata": {},
   "outputs": [],
   "source": [
    "en_reg = ElasticNetCV(l1_ratio=np.geomspace(0.1,1, num=30), alphas=np.geomspace(0.01,1, num=30), cv=3)"
   ]
  },
  {
   "cell_type": "code",
   "execution_count": 43,
   "metadata": {},
   "outputs": [
    {
     "data": {
      "text/plain": [
       "ElasticNetCV(alphas=array([0.01   , 0.01172, 0.01374, 0.0161 , 0.01887, 0.02212, 0.02593,\n",
       "       0.03039, 0.03562, 0.04175, 0.04894, 0.05736, 0.06723, 0.0788 ,\n",
       "       0.09237, 0.10826, 0.1269 , 0.14874, 0.17433, 0.20434, 0.2395 ,\n",
       "       0.28072, 0.32903, 0.38566, 0.45204, 0.52983, 0.62102, 0.7279 ,\n",
       "       0.85317, 1.     ]),\n",
       "       copy_X=True, cv=3, eps=0.001, fit_intercept=True,\n",
       "       l1_ratio=array([0.1    , 0.10826, 0.11721, 0.1269 , 0.13738, 0.14874, 0.16103,\n",
       "       0.17433, 0.18874, 0.20434, 0.22122, 0.2395 , 0.25929, 0.28072,\n",
       "       0.30392, 0.32903, 0.35622, 0.38566, 0.41753, 0.45204, 0.48939,\n",
       "       0.52983, 0.57362, 0.62102, 0.67234, 0.7279 , 0.78805, 0.85317,\n",
       "       0.92367, 1.     ]),\n",
       "       max_iter=1000, n_alphas=100, n_jobs=None, normalize=False,\n",
       "       positive=False, precompute='auto', random_state=None,\n",
       "       selection='cyclic', tol=0.0001, verbose=0)"
      ]
     },
     "execution_count": 43,
     "metadata": {},
     "output_type": "execute_result"
    }
   ],
   "source": [
    "en_reg.fit(x_train,y_train)"
   ]
  },
  {
   "cell_type": "code",
   "execution_count": 44,
   "metadata": {
    "scrolled": true
   },
   "outputs": [
    {
     "name": "stdout",
     "output_type": "stream",
     "text": [
      "R-squared value: 0.8387177395612938\n",
      "MSE: 0.16304561053676886\n",
      "alpha: 0.018873918221350976\n",
      "l1_ratio: 0.6210169418915616\n"
     ]
    }
   ],
   "source": [
    "print('R-squared value:', en_reg.score(x_train, y_train))\n",
    "print('MSE:', mean_squared_error(en_reg.predict(x_train), y_train))\n",
    "print('alpha:', en_reg.alpha_)\n",
    "print('l1_ratio:', en_reg.l1_ratio_)"
   ]
  },
  {
   "cell_type": "markdown",
   "metadata": {},
   "source": [
    "Test Data"
   ]
  },
  {
   "cell_type": "code",
   "execution_count": 45,
   "metadata": {},
   "outputs": [
    {
     "name": "stdout",
     "output_type": "stream",
     "text": [
      "R-squared value: 0.8425848435635697\n",
      "MSE: 0.15305093664100228\n"
     ]
    }
   ],
   "source": [
    "print('R-squared value:', en_reg.score(x_test, y_test))\n",
    "print('MSE:', mean_squared_error(en_reg.predict(x_test), y_test))"
   ]
  },
  {
   "cell_type": "code",
   "execution_count": 46,
   "metadata": {},
   "outputs": [],
   "source": [
    "en_pred = en_reg.predict(x_test)"
   ]
  },
  {
   "cell_type": "code",
   "execution_count": 47,
   "metadata": {},
   "outputs": [
    {
     "data": {
      "image/png": "[encoded data removed]",
      "text/plain": [
       "<Figure size 432x288 with 1 Axes>"
      ]
     },
     "metadata": {
      "needs_background": "light"
     },
     "output_type": "display_data"
    },
    {
     "data": {
      "text/plain": [
       "Text(0.5, 0, 'Residuals')"
      ]
     },
     "execution_count": 47,
     "metadata": {},
     "output_type": "execute_result"
    },
    {
     "data": {
      "image/png": "[encoded data removed]",
      "text/plain": [
       "<Figure size 432x288 with 1 Axes>"
      ]
     },
     "metadata": {
      "needs_background": "light"
     },
     "output_type": "display_data"
    }
   ],
   "source": [
    "se.scatterplot(en_pred, y_test)\n",
    "plt.show()\n",
    "se.scatterplot(en_pred, en_pred-y_test)\n",
    "plt.xlabel('Residuals')"
   ]
  },
  {
   "cell_type": "code",
   "execution_count": 48,
   "metadata": {},
   "outputs": [
    {
     "name": "stdout",
     "output_type": "stream",
     "text": [
      "Residuals Mean: -0.01994244578390625\n"
     ]
    }
   ],
   "source": [
    "print('Residuals Mean:', (en_pred-y_test).mean())"
   ]
  },
  {
   "cell_type": "code",
   "execution_count": 49,
   "metadata": {},
   "outputs": [
    {
     "name": "stdout",
     "output_type": "stream",
     "text": [
      "Number of Variables: 22\n",
      "('LotArea', 0.0968899970338517)\n",
      "('OverallQual', 0.012908907459280536)\n",
      "('OverallCond', 0.14732312325505836)\n",
      "('YearBuilt', 0.35645983128782127)\n",
      "('YearRemodAdd', 0.1364188996193834)\n",
      "('BsmtFinSF1', 0.036861039803412245)\n",
      "('BsmtFinSF2', -0.01711769575125045)\n",
      "('TotalBsmtSF', 0.06621368508335024)\n",
      "('1stFlrSF', 0.14318730593860896)\n",
      "('GrLivArea', 0.4124099857760205)\n",
      "('BsmtFullBath', 0.047032469818284295)\n",
      "('HalfBath', 0.005274788995537921)\n",
      "('KitchenAbvGr', -0.06335498971180477)\n",
      "('TotRmsAbvGrd', 0.018281622822152555)\n",
      "('Fireplaces', 0.08799809401013127)\n",
      "('GarageArea', 0.005078174798466117)\n",
      "('WoodDeckSF', 0.014301988956101089)\n",
      "('OpenPorchSF', 0.011302141697050044)\n",
      "('EnclosedPorch', 0.03901329141672677)\n",
      "('ScreenPorch', 0.04632898891464417)\n",
      "('PoolArea', -0.05637708168610437)\n",
      "('MiscVal', -0.01344389944919049)\n"
     ]
    }
   ],
   "source": [
    "print('Number of Variables:' , np.count_nonzero(en_reg.coef_))\n",
    "for i in zip(x_train.columns, en_reg.coef_):\n",
    "    if i[1 != 0]:       \n",
    "        print(i)"
   ]
  },
  {
   "cell_type": "markdown",
   "metadata": {},
   "source": [
    "The results for the Elastic-Net Regression is the same as the Lasso Regression results. While grid searching through the l1-ratio, the algorithm found that the results are optimised where l1-ratio = 1. This means that the model is sole penalised by a L1 penalty. As such, the elastic net regression becomes a lasso regression. This can be seen by the same alpha value as well. "
   ]
  },
  {
   "cell_type": "markdown",
   "metadata": {},
   "source": [
    "## Final results comparison and Conclusion"
   ]
  },
  {
   "cell_type": "markdown",
   "metadata": {},
   "source": [
    "Do note that I excluded the large numbers from the linear regression to produce a score for it."
   ]
  },
  {
   "cell_type": "code",
   "execution_count": 50,
   "metadata": {},
   "outputs": [
    {
     "name": "stdout",
     "output_type": "stream",
     "text": [
      "Linear Regression R-squared: 0.7816485450347996\n",
      "Ridge Regression R-squared: 0.8265199257533747\n",
      "Lasso Regression R_squared: 0.8433728067975979\n",
      "Elastic-Net Regression R_squared: 0.8425848435635697\n"
     ]
    }
   ],
   "source": [
    "print('Linear Regression R-squared:', np.corrcoef(lin_pred_test1, y_test1)[0][1]**2)\n",
    "print('Ridge Regression R-squared:', ridge_reg.score(x_test, y_test))\n",
    "print('Lasso Regression R_squared:', lasso_reg.score(x_test, y_test))\n",
    "print('Elastic-Net Regression R_squared:', en_reg.score(x_test,y_test))\n"
   ]
  },
  {
   "cell_type": "markdown",
   "metadata": {},
   "source": [
    "From all the different models, we can see that the R-squared values do not differ much among them (+- 0.02)."
   ]
  },
  {
   "cell_type": "code",
   "execution_count": 51,
   "metadata": {},
   "outputs": [
    {
     "name": "stdout",
     "output_type": "stream",
     "text": [
      "Linear Regression MSE: 0.20406839072639307\n",
      "Ridge Regression MSE: 0.16867046638370514\n",
      "Lasso Regression MSE: 0.15228481910990305\n",
      "Elastic-Net Regression MSE: 0.15305093664100228\n"
     ]
    }
   ],
   "source": [
    "print('Linear Regression MSE:', mean_squared_error(lin_pred_test1, y_test1))\n",
    "print('Ridge Regression MSE:', mean_squared_error(ridge_pred, y_test))\n",
    "print('Lasso Regression MSE:', mean_squared_error(lasso_pred, y_test))\n",
    "print('Elastic-Net Regression MSE:', mean_squared_error(en_pred, y_test))"
   ]
  },
  {
   "cell_type": "markdown",
   "metadata": {},
   "source": [
    "Similarly, we do not see drastic difference between the different models as well in terms of MSE.\n",
    "However, we should conclude that a model is superior to the other. In this case, I chose the Lasso/ Elastic-Net Regression model (Both are similar given how the Elastic-Net resulted in a l1-ratio of 1). Although it only had a slight advantage in terms of the R-Squared and MSE scoring values, it did so with a much lower number of variables as compared to the others. This shows that the algorithm was able to produce a slightly better prediction despite having much lesser information.\n",
    "\n",
    "Winner: Lasso/ Elastic-Net Regression"
   ]
  },
  {
   "cell_type": "code",
   "execution_count": null,
   "metadata": {},
   "outputs": [],
   "source": []
  }
 ],
 "metadata": {
  "kernelspec": {
   "display_name": "Python 3",
   "language": "python",
   "name": "python3"
  },
  "language_info": {
   "codemirror_mode": {
    "name": "ipython",
    "version": 3
   },
   "file_extension": ".py",
   "mimetype": "text/x-python",
   "name": "python",
   "nbconvert_exporter": "python",
   "pygments_lexer": "ipython3",
   "version": "3.7.3"
  }
 },
 "nbformat": 4,
 "nbformat_minor": 2
}
